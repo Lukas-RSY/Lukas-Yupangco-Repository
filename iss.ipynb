{
 "cells": [
  {
   "cell_type": "code",
   "execution_count": 1,
   "id": "729be02e-090b-423e-ab06-51912c4c9b32",
   "metadata": {},
   "outputs": [
    {
     "name": "stdout",
     "output_type": "stream",
     "text": [
      "Defaulting to user installation because normal site-packages is not writeable\n",
      "Looking in links: /usr/share/pip-wheels\n",
      "Requirement already satisfied: requests in /opt/conda/envs/anaconda-2024.02-py310/lib/python3.10/site-packages (2.31.0)\n",
      "Requirement already satisfied: matplotlib in /opt/conda/envs/anaconda-2024.02-py310/lib/python3.10/site-packages (3.8.0)\n",
      "Requirement already satisfied: charset-normalizer<4,>=2 in /opt/conda/envs/anaconda-2024.02-py310/lib/python3.10/site-packages (from requests) (2.0.4)\n",
      "Requirement already satisfied: idna<4,>=2.5 in /opt/conda/envs/anaconda-2024.02-py310/lib/python3.10/site-packages (from requests) (3.4)\n",
      "Requirement already satisfied: urllib3<3,>=1.21.1 in /opt/conda/envs/anaconda-2024.02-py310/lib/python3.10/site-packages (from requests) (2.0.7)\n",
      "Requirement already satisfied: certifi>=2017.4.17 in /opt/conda/envs/anaconda-2024.02-py310/lib/python3.10/site-packages (from requests) (2024.2.2)\n",
      "Requirement already satisfied: contourpy>=1.0.1 in /opt/conda/envs/anaconda-2024.02-py310/lib/python3.10/site-packages (from matplotlib) (1.2.0)\n",
      "Requirement already satisfied: cycler>=0.10 in /opt/conda/envs/anaconda-2024.02-py310/lib/python3.10/site-packages (from matplotlib) (0.11.0)\n",
      "Requirement already satisfied: fonttools>=4.22.0 in /opt/conda/envs/anaconda-2024.02-py310/lib/python3.10/site-packages (from matplotlib) (4.25.0)\n",
      "Requirement already satisfied: kiwisolver>=1.0.1 in /opt/conda/envs/anaconda-2024.02-py310/lib/python3.10/site-packages (from matplotlib) (1.4.4)\n",
      "Requirement already satisfied: numpy<2,>=1.21 in /opt/conda/envs/anaconda-2024.02-py310/lib/python3.10/site-packages (from matplotlib) (1.26.4)\n",
      "Requirement already satisfied: packaging>=20.0 in /opt/conda/envs/anaconda-2024.02-py310/lib/python3.10/site-packages (from matplotlib) (23.2)\n",
      "Requirement already satisfied: pillow>=6.2.0 in /opt/conda/envs/anaconda-2024.02-py310/lib/python3.10/site-packages (from matplotlib) (10.2.0)\n",
      "Requirement already satisfied: pyparsing>=2.3.1 in /opt/conda/envs/anaconda-2024.02-py310/lib/python3.10/site-packages (from matplotlib) (3.0.9)\n",
      "Requirement already satisfied: python-dateutil>=2.7 in /opt/conda/envs/anaconda-2024.02-py310/lib/python3.10/site-packages (from matplotlib) (2.8.2)\n",
      "Requirement already satisfied: six>=1.5 in /opt/conda/envs/anaconda-2024.02-py310/lib/python3.10/site-packages (from python-dateutil>=2.7->matplotlib) (1.16.0)\n",
      "Note: you may need to restart the kernel to use updated packages.\n"
     ]
    }
   ],
   "source": [
    "pip install requests matplotlib"
   ]
  },
  {
   "cell_type": "code",
   "execution_count": 2,
   "id": "74e16d92-1e2d-47a9-a0dc-fb277c758ba7",
   "metadata": {},
   "outputs": [
    {
     "name": "stdout",
     "output_type": "stream",
     "text": [
      "Defaulting to user installation because normal site-packages is not writeable\n",
      "Looking in links: /usr/share/pip-wheels\n",
      "Requirement already satisfied: requests in /opt/conda/envs/anaconda-2024.02-py310/lib/python3.10/site-packages (2.31.0)\n",
      "Requirement already satisfied: matplotlib in /opt/conda/envs/anaconda-2024.02-py310/lib/python3.10/site-packages (3.8.0)\n",
      "Requirement already satisfied: charset-normalizer<4,>=2 in /opt/conda/envs/anaconda-2024.02-py310/lib/python3.10/site-packages (from requests) (2.0.4)\n",
      "Requirement already satisfied: idna<4,>=2.5 in /opt/conda/envs/anaconda-2024.02-py310/lib/python3.10/site-packages (from requests) (3.4)\n",
      "Requirement already satisfied: urllib3<3,>=1.21.1 in /opt/conda/envs/anaconda-2024.02-py310/lib/python3.10/site-packages (from requests) (2.0.7)\n",
      "Requirement already satisfied: certifi>=2017.4.17 in /opt/conda/envs/anaconda-2024.02-py310/lib/python3.10/site-packages (from requests) (2024.2.2)\n",
      "Requirement already satisfied: contourpy>=1.0.1 in /opt/conda/envs/anaconda-2024.02-py310/lib/python3.10/site-packages (from matplotlib) (1.2.0)\n",
      "Requirement already satisfied: cycler>=0.10 in /opt/conda/envs/anaconda-2024.02-py310/lib/python3.10/site-packages (from matplotlib) (0.11.0)\n",
      "Requirement already satisfied: fonttools>=4.22.0 in /opt/conda/envs/anaconda-2024.02-py310/lib/python3.10/site-packages (from matplotlib) (4.25.0)\n",
      "Requirement already satisfied: kiwisolver>=1.0.1 in /opt/conda/envs/anaconda-2024.02-py310/lib/python3.10/site-packages (from matplotlib) (1.4.4)\n",
      "Requirement already satisfied: numpy<2,>=1.21 in /opt/conda/envs/anaconda-2024.02-py310/lib/python3.10/site-packages (from matplotlib) (1.26.4)\n",
      "Requirement already satisfied: packaging>=20.0 in /opt/conda/envs/anaconda-2024.02-py310/lib/python3.10/site-packages (from matplotlib) (23.2)\n",
      "Requirement already satisfied: pillow>=6.2.0 in /opt/conda/envs/anaconda-2024.02-py310/lib/python3.10/site-packages (from matplotlib) (10.2.0)\n",
      "Requirement already satisfied: pyparsing>=2.3.1 in /opt/conda/envs/anaconda-2024.02-py310/lib/python3.10/site-packages (from matplotlib) (3.0.9)\n",
      "Requirement already satisfied: python-dateutil>=2.7 in /opt/conda/envs/anaconda-2024.02-py310/lib/python3.10/site-packages (from matplotlib) (2.8.2)\n",
      "Requirement already satisfied: six>=1.5 in /opt/conda/envs/anaconda-2024.02-py310/lib/python3.10/site-packages (from python-dateutil>=2.7->matplotlib) (1.16.0)\n"
     ]
    }
   ],
   "source": [
    "!pip install requests matplotlib\n"
   ]
  },
  {
   "cell_type": "code",
   "execution_count": 2,
   "id": "b39e0e17-f337-41ed-a172-62f43ef9fb17",
   "metadata": {},
   "outputs": [],
   "source": [
    "import requests\n",
    "import time\n",
    "import matplotlib.pyplot as plt"
   ]
  },
  {
   "cell_type": "code",
   "execution_count": 3,
   "id": "e8d0197b-324f-4fc8-83e6-c504e3d7588f",
   "metadata": {},
   "outputs": [],
   "source": [
    "timestamps = []\n",
    "latitudes = []\n",
    "longitudes = []"
   ]
  },
  {
   "cell_type": "code",
   "execution_count": 4,
   "id": "54e758e2-daf3-4cb0-acdb-90466d5d1078",
   "metadata": {},
   "outputs": [
    {
     "name": "stdout",
     "output_type": "stream",
     "text": [
      "Collected point 1/100 lat = -30.96879548818, lon = -79.548426231313, time = 1751726317\n",
      "Collected point 2/100 lat = -31.414953533357, lon = -79.044814085892, time = 1751726327\n",
      "Collected point 3/100 lat = -31.858732952339, lon = -78.536050699619, time = 1751726337\n",
      "Collected point 4/100 lat = -32.388034867007, lon = -77.91858314676, time = 1751726349\n",
      "Collected point 5/100 lat = -32.870044123202, lon = -77.345747488282, time = 1751726360\n",
      "Collected point 6/100 lat = -33.348913389696, lon = -76.766233238806, time = 1751726371\n",
      "Collected point 7/100 lat = -33.78145186115, lon = -76.233474341943, time = 1751726381\n",
      "Collected point 8/100 lat = -34.254077607184, lon = -75.640782386784, time = 1751726392\n",
      "Collected point 9/100 lat = -34.723298246301, lon = -75.040962106069, time = 1751726403\n",
      "Collected point 10/100 lat = -35.189013587528, lon = -74.433863358466, time = 1751726414\n",
      "Collected point 11/100 lat = -35.651127936891, lon = -73.819326732149, time = 1751726425\n",
      "Collected point 12/100 lat = -36.109536428238, lon = -73.197201508245, time = 1751726436\n",
      "Collected point 13/100 lat = -36.564138501513, lon = -72.567327892621, time = 1751726447\n",
      "Collected point 14/100 lat = -36.974017750692, lon = -71.987865118652, time = 1751726457\n",
      "Collected point 15/100 lat = -37.421050689076, lon = -71.342775709653, time = 1751726468\n",
      "Collected point 16/100 lat = -37.863960723124, lon = -70.689488343085, time = 1751726479\n",
      "Collected point 17/100 lat = -38.302630865422, lon = -70.027854916223, time = 1751726490\n",
      "Collected point 18/100 lat = -38.736947989295, lon = -69.357719053664, time = 1751726501\n",
      "Collected point 19/100 lat = -39.127901607528, lon = -68.741004492748, time = 1751726511\n",
      "Collected point 20/100 lat = -39.553572860193, lon = -68.054226985626, time = 1751726522\n",
      "Collected point 21/100 lat = -39.974534637485, lon = -67.358522222486, time = 1751726533\n",
      "Collected point 22/100 lat = -40.390663420065, lon = -66.653742464568, time = 1751726544\n",
      "Collected point 23/100 lat = -40.764657128391, lon = -66.005045637746, time = 1751726554\n",
      "Collected point 24/100 lat = -41.171193795903, lon = -65.282564746528, time = 1751726565\n",
      "Collected point 25/100 lat = -41.536249977926, lon = -64.617549521997, time = 1751726575\n",
      "Collected point 26/100 lat = -41.932706863644, lon = -63.876885814231, time = 1751726586\n",
      "Collected point 27/100 lat = -42.323684061274, lon = -63.126515447127, time = 1751726597\n",
      "Collected point 28/100 lat = -42.674241238292, lon = -62.435844428349, time = 1751726607\n",
      "Collected point 29/100 lat = -43.02004339914, lon = -61.736975465088, time = 1751726617\n",
      "Collected point 30/100 lat = -43.394803879236, lon = -60.958656142463, time = 1751726628\n",
      "Collected point 31/100 lat = -43.730261252016, lon = -60.24232581105, time = 1751726638\n",
      "Collected point 32/100 lat = -44.126068541525, lon = -59.371607222175, time = 1751726650\n",
      "Collected point 33/100 lat = -44.450153721061, lon = -58.636674857528, time = 1751726660\n",
      "Collected point 34/100 lat = -44.831979223659, lon = -57.743474384824, time = 1751726672\n",
      "Collected point 35/100 lat = -45.144130277507, lon = -56.989692660741, time = 1751726682\n",
      "Collected point 36/100 lat = -45.481008817207, lon = -56.150563478981, time = 1751726693\n",
      "Collected point 37/100 lat = -45.810933603102, lon = -55.300963520293, time = 1751726704\n",
      "Collected point 38/100 lat = -46.162734111129, lon = -54.362154818356, time = 1751726716\n",
      "Collected point 39/100 lat = -46.477600259075, lon = -53.490604065509, time = 1751726727\n",
      "Collected point 40/100 lat = -46.785013938808, lon = -52.608557990663, time = 1751726738\n",
      "Collected point 41/100 lat = -47.084809063381, lon = -51.716048158476, time = 1751726749\n",
      "Collected point 42/100 lat = -47.350602868458, lon = -50.895623795607, time = 1751726759\n",
      "Collected point 43/100 lat = -47.635399375196, lon = -49.983261832283, time = 1751726770\n",
      "Collected point 44/100 lat = -47.912101479811, lon = -49.060599571113, time = 1751726781\n",
      "Collected point 45/100 lat = -48.156485200118, lon = -48.212962064346, time = 1751726791\n",
      "Collected point 46/100 lat = -48.393920559822, lon = -47.356977186608, time = 1751726801\n",
      "Collected point 47/100 lat = -48.64692958432, lon = -46.405867470477, time = 1751726812\n",
      "Collected point 48/100 lat = -48.869378088742, lon = -45.532690634237, time = 1751726822\n",
      "Collected point 49/100 lat = -49.126640887984, lon = -44.47433371093, time = 1751726834\n",
      "Collected point 50/100 lat = -49.353027570196, lon = -43.494275550539, time = 1751726845\n",
      "Collected point 51/100 lat = -49.570229649263, lon = -42.504965435897, time = 1751726856\n",
      "Collected point 52/100 lat = -49.796523064673, lon = -41.415455051438, time = 1751726868\n",
      "Collected point 53/100 lat = -49.994035031963, lon = -40.407603431108, time = 1751726879\n",
      "Collected point 54/100 lat = -50.181905491938, lon = -39.39131612781, time = 1751726890\n",
      "Collected point 55/100 lat = -50.359996792541, lon = -38.366893633487, time = 1751726901\n",
      "Collected point 56/100 lat = -50.528173414665, lon = -37.334673776727, time = 1751726912\n",
      "Collected point 57/100 lat = -50.672350174468, lon = -36.389814540072, time = 1751726922\n",
      "Collected point 58/100 lat = -50.821246674067, lon = -35.343698600276, time = 1751726933\n",
      "Collected point 59/100 lat = -50.947695545195, lon = -34.38684501897, time = 1751726943\n",
      "Collected point 60/100 lat = -51.076883678983, lon = -33.328262153926, time = 1751726954\n",
      "Collected point 61/100 lat = -51.195591962141, lon = -32.263774117051, time = 1751726965\n",
      "Collected point 62/100 lat = -51.303723584527, lon = -31.193823547936, time = 1751726976\n",
      "Collected point 63/100 lat = -51.392770385282, lon = -30.216801133206, time = 1751726986\n",
      "Collected point 64/100 lat = -51.480466100207, lon = -29.137743085879, time = 1751726997\n",
      "Collected point 65/100 lat = -51.557345042609, lon = -28.054636376335, time = 1751727008\n",
      "Collected point 66/100 lat = -51.62334191952, lon = -26.967984948513, time = 1751727019\n",
      "Collected point 67/100 lat = -51.673847434486, lon = -25.977491413758, time = 1751727029\n",
      "Collected point 68/100 lat = -51.718918220019, lon = -24.885548137039, time = 1751727040\n",
      "Collected point 69/100 lat = -51.752966554252, lon = -23.791611810482, time = 1751727051\n",
      "Collected point 70/100 lat = -51.774329063416, lon = -22.795863581319, time = 1751727061\n",
      "Collected point 71/100 lat = -51.787259175441, lon = -21.699659557249, time = 1751727072\n",
      "Collected point 72/100 lat = -51.789106314905, lon = -20.603080855284, time = 1751727083\n",
      "Collected point 73/100 lat = -51.77986868848, lon = -19.506678073687, time = 1751727094\n",
      "Collected point 74/100 lat = -51.759554291441, lon = -18.411017209349, time = 1751727105\n",
      "Collected point 75/100 lat = -51.731489077897, lon = -17.416065246263, time = 1751727115\n",
      "Collected point 76/100 lat = -51.685775104287, lon = -16.224122085614, time = 1751727127\n",
      "Collected point 77/100 lat = -51.637682030711, lon = -15.232972936562, time = 1751727137\n",
      "Collected point 78/100 lat = -51.574325522212, lon = -14.145474428487, time = 1751727148\n",
      "Collected point 79/100 lat = -51.507269106484, lon = -13.159778349615, time = 1751727158\n",
      "Collected point 80/100 lat = -51.423159527636, lon = -12.079219741192, time = 1751727169\n",
      "Collected point 81/100 lat = -51.328279612721, lon = -11.003040052822, time = 1751727180\n",
      "Collected point 82/100 lat = -51.232745211068, lon = -10.028898453638, time = 1751727190\n",
      "Collected point 83/100 lat = -51.128441305256, lon = -9.059135961687, time = 1751727200\n",
      "Collected point 84/100 lat = -51.003662291414, lon = -7.9978570398757, time = 1751727211\n",
      "Collected point 85/100 lat = -50.881178848684, lon = -7.0383866382229, time = 1751727221\n",
      "Collected point 86/100 lat = -50.736594256144, lon = -5.9892179250847, time = 1751727232\n",
      "Collected point 87/100 lat = -50.581798453601, lon = -4.9469811656482, time = 1751727243\n",
      "Collected point 88/100 lat = -50.416913592146, lon = -3.9120656290925, time = 1751727254\n",
      "Collected point 89/100 lat = -50.242065332202, lon = -2.8848238989011, time = 1751727265\n",
      "Collected point 90/100 lat = -50.057387229716, lon = -1.8656016670559, time = 1751727276\n",
      "Collected point 91/100 lat = -49.881082087266, lon = -0.94625399305586, time = 1751727286\n",
      "Collected point 92/100 lat = -49.678021629881, lon = 0.056807323212185, time = 1751727297\n",
      "Collected point 93/100 lat = -49.485242939428, lon = 0.96099315353226, time = 1751727307\n",
      "Collected point 94/100 lat = -49.264330093759, lon = 1.9468994295983, time = 1751727318\n",
      "Collected point 95/100 lat = -49.034285909026, lon = 2.9234756844865, time = 1751727329\n",
      "Collected point 96/100 lat = -48.817360388713, lon = 3.8030048059636, time = 1751727339\n",
      "Collected point 97/100 lat = -48.570316214116, lon = 4.7612114444651, time = 1751727350\n",
      "Collected point 98/100 lat = -48.33819846437, lon = 5.6237485352145, time = 1751727360\n",
      "Collected point 99/100 lat = -48.074734868492, lon = 6.5629801194434, time = 1751727371\n",
      "Collected point 100/100 lat = -47.827959109274, lon = 7.4080379707462, time = 1751727381\n"
     ]
    }
   ],
   "source": [
    "for i in range(100):\n",
    "    response = requests.get(\"https://api.wheretheiss.at/v1/satellites/25544\")\n",
    "    data = response.json()\n",
    "\n",
    "    timestamps.append(data[\"timestamp\"])\n",
    "    latitudes.append(data[\"latitude\"])\n",
    "    longitudes.append(data[\"longitude\"])\n",
    "\n",
    "    print(f\"Collected point {i+1}/100 lat = {data['latitude']}, lon = {data['longitude']}, time = {data['timestamp']}\")\n",
    "    time.sleep(10)\n",
    "\n"
   ]
  },
  {
   "cell_type": "code",
   "execution_count": 6,
   "id": "e8d8363f-13a3-481e-8256-fd1d308333d0",
   "metadata": {},
   "outputs": [
    {
     "data": {
      "image/png": "[encoded data removed]",
      "text/plain": [
       "<Figure size 1000x600 with 1 Axes>"
      ]
     },
     "metadata": {},
     "output_type": "display_data"
    }
   ],
   "source": [
    "import matplotlib.pyplot as plt\n",
    "\n",
    "plt.figure(figsize=(10, 6))\n",
    "plt.plot(longitudes, latitudes, marker='o', linestyle='-', color='blue')\n",
    "plt.title('ISS Path Based on 100 Data Points')\n",
    "plt.xlabel('Longitude')\n",
    "plt.ylabel('Latitude')\n",
    "plt.grid(True)\n",
    "plt.show()\n"
   ]
  },
  {
   "cell_type": "code",
   "execution_count": null,
   "id": "64c6a093-085e-4daf-85a4-74e6778e46f4",
   "metadata": {},
   "outputs": [],
   "source": []
  }
 ],
 "metadata": {
  "kernelspec": {
   "display_name": "anaconda-2024.02-py310",
   "language": "python",
   "name": "conda-env-anaconda-2024.02-py310-py"
  },
  "language_info": {
   "codemirror_mode": {
    "name": "ipython",
    "version": 3
   },
   "file_extension": ".py",
   "mimetype": "text/x-python",
   "name": "python",
   "nbconvert_exporter": "python",
   "pygments_lexer": "ipython3",
   "version": "3.10.14"
  }
 },
 "nbformat": 4,
 "nbformat_minor": 5
}
