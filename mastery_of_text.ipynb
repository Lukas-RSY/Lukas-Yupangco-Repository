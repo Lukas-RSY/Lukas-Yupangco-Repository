{
 "cells": [
  {
   "cell_type": "code",
   "execution_count": 1,
   "id": "e54f07e0-8008-4ef9-9247-99b7d8029415",
   "metadata": {},
   "outputs": [],
   "source": [
    "import urllib.request\n",
    "\n",
    "url = \"https://www.gutenberg.org/cache/epub/10/pg10.txt\"\n",
    "response = urllib.request.urlopen(url)\n",
    "pg10 = response.read().decode('utf-8')\n"
   ]
  },
  {
   "cell_type": "code",
   "execution_count": 2,
   "id": "493986a9-5efc-4e32-b8fc-7e71cd32553d",
   "metadata": {},
   "outputs": [
    {
     "name": "stdout",
     "output_type": "stream",
     "text": [
      "Number of lines: 99968\n"
     ]
    }
   ],
   "source": [
    "line_count = len(pg10.splitlines())\n",
    "print(\"Number of lines:\", line_count)"
   ]
  },
  {
   "cell_type": "code",
   "execution_count": 3,
   "id": "93743c2e-79b3-4067-83c4-2c103aeff014",
   "metadata": {},
   "outputs": [
    {
     "name": "stdout",
     "output_type": "stream",
     "text": [
      "Number of words: 795227\n"
     ]
    }
   ],
   "source": [
    "import re\n",
    "\n",
    "words = re.findall(r'[a-zA-Z]+', pg10)\n",
    "word_count = len(words)\n",
    "print(\"Number of words:\", word_count)"
   ]
  },
  {
   "cell_type": "code",
   "execution_count": 4,
   "id": "e1b29ebc-8c5a-4e8f-b4b5-c77f4356ee1b",
   "metadata": {},
   "outputs": [
    {
     "name": "stdout",
     "output_type": "stream",
     "text": [
      "Occurrences of 'apostle': 47\n"
     ]
    }
   ],
   "source": [
    "apostle_count = sum(1 for word in words if word.lower() == \"apostle\")\n",
    "print(\"Occurrences of 'apostle':\", apostle_count)"
   ]
  },
  {
   "cell_type": "code",
   "execution_count": 5,
   "id": "2769a1a7-1663-413d-80ac-084e53717307",
   "metadata": {},
   "outputs": [
    {
     "name": "stdout",
     "output_type": "stream",
     "text": [
      "Most common word: the\n",
      "Frequency: 64309\n"
     ]
    }
   ],
   "source": [
    "from collections import Counter\n",
    "\n",
    "lower_words = [word.lower() for word in words]\n",
    "\n",
    "word_freq = Counter(lower_words)\n",
    "most_common_word, frequency =word_freq.most_common(1)[0]\n",
    "\n",
    "print(\"Most common word:\", most_common_word)\n",
    "print(\"Frequency:\", frequency)"
   ]
  },
  {
   "cell_type": "code",
   "execution_count": null,
   "id": "5c5b172c-e65e-45fc-9ff0-02ab7250d02f",
   "metadata": {},
   "outputs": [],
   "source": []
  }
 ],
 "metadata": {
  "kernelspec": {
   "display_name": "anaconda-2024.02-py310",
   "language": "python",
   "name": "conda-env-anaconda-2024.02-py310-py"
  },
  "language_info": {
   "codemirror_mode": {
    "name": "ipython",
    "version": 3
   },
   "file_extension": ".py",
   "mimetype": "text/x-python",
   "name": "python",
   "nbconvert_exporter": "python",
   "pygments_lexer": "ipython3",
   "version": "3.10.14"
  }
 },
 "nbformat": 4,
 "nbformat_minor": 5
}
